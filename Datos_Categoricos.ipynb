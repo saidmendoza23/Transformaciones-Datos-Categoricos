{
 "cells": [
  {
   "cell_type": "code",
   "execution_count": 1,
   "id": "e8822f2f-cfd2-47aa-b3ed-d867e3a6961f",
   "metadata": {},
   "outputs": [],
   "source": [
    "import pandas as pd\n"
   ]
  },
  {
   "cell_type": "code",
   "execution_count": 3,
   "id": "827be8a3-b822-49f1-828d-ac917a17ba07",
   "metadata": {},
   "outputs": [],
   "source": [
    "adidas = pd.read_csv(\"adidas.csv\")"
   ]
  },
  {
   "cell_type": "code",
   "execution_count": 4,
   "id": "dcc5b3e9-099c-49cf-97c0-c9e6d73d1d73",
   "metadata": {},
   "outputs": [
    {
     "data": {
      "text/plain": [
       "Index(['url', 'name', 'sku', 'selling_price', 'original_price', 'currency',\n",
       "       'availability', 'color', 'category', 'source', 'source_website',\n",
       "       'breadcrumbs', 'description', 'brand', 'images', 'country', 'language',\n",
       "       'average_rating', 'reviews_count', 'crawled_at'],\n",
       "      dtype='object')"
      ]
     },
     "execution_count": 4,
     "metadata": {},
     "output_type": "execute_result"
    }
   ],
   "source": [
    "adidas.columns\n"
   ]
  },
  {
   "cell_type": "code",
   "execution_count": 5,
   "id": "fed29af8-23ec-45a8-bdd1-8a641b543cc5",
   "metadata": {},
   "outputs": [],
   "source": [
    "target = 0.98"
   ]
  },
  {
   "cell_type": "code",
   "execution_count": 6,
   "id": "e2b22c63-6d22-4f83-9df0-f5ba0ec6fb10",
   "metadata": {},
   "outputs": [],
   "source": [
    "categorias = ['url', 'name', 'sku', 'currency',\n",
    "       'availability', 'color', 'category', 'source', 'source_website',\n",
    "       'breadcrumbs', 'description', 'brand', 'images', 'country', 'language']\n",
    "\n",
    "\n",
    "valid_columns = []\n",
    "columns_many_levels =[]\n",
    "columns_one_Level = []\n",
    "\n"
   ]
  },
  {
   "cell_type": "code",
   "execution_count": null,
   "id": "2d7d0b31-d165-43e4-824b-8cd4dc08c0a0",
   "metadata": {},
   "outputs": [],
   "source": []
  }
 ],
 "metadata": {
  "kernelspec": {
   "display_name": "Python 3 (ipykernel)",
   "language": "python",
   "name": "python3"
  },
  "language_info": {
   "codemirror_mode": {
    "name": "ipython",
    "version": 3
   },
   "file_extension": ".py",
   "mimetype": "text/x-python",
   "name": "python",
   "nbconvert_exporter": "python",
   "pygments_lexer": "ipython3",
   "version": "3.10.7"
  }
 },
 "nbformat": 4,
 "nbformat_minor": 5
}
